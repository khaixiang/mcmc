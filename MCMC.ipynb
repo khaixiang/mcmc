{
 "cells": [
  {
   "cell_type": "code",
   "execution_count": 206,
   "metadata": {
    "collapsed": true
   },
   "outputs": [],
   "source": [
    "import matplotlib.pyplot as plt\n",
    "import numpy as np\n",
    "import random as rand"
   ]
  },
  {
   "cell_type": "markdown",
   "metadata": {},
   "source": [
    "Definition of probability function (transition matrix analogue), Q\n"
   ]
  },
  {
   "cell_type": "code",
   "execution_count": 207,
   "metadata": {
    "collapsed": true
   },
   "outputs": [],
   "source": [
    "def Q(x,y,sigma=1.0):\n",
    "    return 1/np.sqrt(2*np.pi*sigma**2)*np.exp(-1/2/sigma**2*(y-x)**2)"
   ]
  },
  {
   "cell_type": "markdown",
   "metadata": {},
   "source": [
    "Definition of invariant distribution, P"
   ]
  },
  {
   "cell_type": "code",
   "execution_count": 208,
   "metadata": {},
   "outputs": [],
   "source": [
    "def P(x):\n",
    "    return np.exp(-x**2/(2+np.sin(x)))"
   ]
  },
  {
   "cell_type": "markdown",
   "metadata": {},
   "source": [
    "Definition of phi, here for simplicity it is just x itself, hence P(phi) should compute the mean of P"
   ]
  },
  {
   "cell_type": "code",
   "execution_count": 211,
   "metadata": {
    "collapsed": true
   },
   "outputs": [],
   "source": [
    "def phi(x):\n",
    "    return x"
   ]
  },
  {
   "cell_type": "code",
   "execution_count": 210,
   "metadata": {
    "scrolled": true
   },
   "outputs": [
    {
     "data": {
      "image/png": "[encoded data removed]",
      "text/plain": [
       "<matplotlib.figure.Figure at 0x1130f40f0>"
      ]
     },
     "metadata": {},
     "output_type": "display_data"
    },
    {
     "name": "stdout",
     "output_type": "stream",
     "text": [
      "pi(phi) is \n",
      "0.3151297381856621\n"
     ]
    }
   ],
   "source": [
    "sigma = 5\n",
    "iterations = 100000\n",
    "x = np.random.rand() #starting point\n",
    "mc = np.zeros((iterations,1)) #markov chain\n",
    "\n",
    "#M-H algorithm\n",
    "for i in range(iterations):\n",
    "    \n",
    "    mc[i] = x\n",
    "    \n",
    "    e = rand.gauss(0,sigma**2)\n",
    "    x_test = x + e #generating new proposal\n",
    "    \n",
    "    #computing acceptance probability\n",
    "    #since Q fulfils detailed balance, it cancels out in the computation, hence is left out here\n",
    "    alpha = np.minimum(1,P(x_test/P(x)))\n",
    "    \n",
    "\n",
    "    if(rand.uniform(0,1) < alpha):\n",
    "        x_new = x_test\n",
    "    else:\n",
    "        x_new = x\n",
    "\n",
    "    x = x_new\n",
    "    \n",
    "plt.plot(range(iterations),mc)\n",
    "plt.show()\n",
    "\n",
    "#mean estimation\n",
    "print('pi(phi) is ')\n",
    "print(np.sum(phi(mc))/iterations)"
   ]
  },
  {
   "cell_type": "code",
   "execution_count": null,
   "metadata": {},
   "outputs": [],
   "source": []
  },
  {
   "cell_type": "code",
   "execution_count": null,
   "metadata": {
    "collapsed": true
   },
   "outputs": [],
   "source": []
  }
 ],
 "metadata": {
  "kernelspec": {
   "display_name": "Python 3",
   "language": "python",
   "name": "python3"
  },
  "language_info": {
   "codemirror_mode": {
    "name": "ipython",
    "version": 3
   },
   "file_extension": ".py",
   "mimetype": "text/x-python",
   "name": "python",
   "nbconvert_exporter": "python",
   "pygments_lexer": "ipython3",
   "version": "3.6.3"
  }
 },
 "nbformat": 4,
 "nbformat_minor": 2
}
